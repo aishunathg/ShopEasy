{
 "cells": [
  {
   "cell_type": "code",
   "execution_count": 10,
   "metadata": {},
   "outputs": [],
   "source": [
    "#import libraries\n",
    "\n",
    "import pandas as pd\n",
    "import numpy as np\n",
    "import nltk\n",
    "from nltk.corpus import stopwords\n",
    "import string\n",
    "import pickle\n",
    "import sklearn.ensemble as ske \n",
    "from sklearn.feature_extraction.text import CountVectorizer\n",
    "from sklearn.model_selection import train_test_split\n",
    "from sklearn.naive_bayes import MultinomialNB\n",
    "from sklearn.metrics import classification_report,confusion_matrix, accuracy_score\n",
    "from sklearn import  tree, linear_model\n",
    "from sklearn.model_selection import train_test_split\n",
    "import matplotlib.pyplot as plt\n",
    "import numpy as np\n",
    "import seaborn as sn"
   ]
  },
  {
   "cell_type": "code",
   "execution_count": 3,
   "metadata": {},
   "outputs": [
    {
     "data": {
      "text/plain": [
       "(21000, 9)"
      ]
     },
     "execution_count": 3,
     "metadata": {},
     "output_type": "execute_result"
    }
   ],
   "source": [
    "# read dataset\n",
    "df = pd.read_csv(\"amazon_reviews.txt\", delimiter = \"\\t\")\n",
    "df.shape"
   ]
  },
  {
   "cell_type": "code",
   "execution_count": 4,
   "metadata": {},
   "outputs": [
    {
     "data": {
      "text/plain": [
       "(21000, 9)"
      ]
     },
     "execution_count": 4,
     "metadata": {},
     "output_type": "execute_result"
    }
   ],
   "source": [
    "#remove duplicates\n",
    "df.drop_duplicates()\n",
    "df.shape"
   ]
  },
  {
   "cell_type": "code",
   "execution_count": 5,
   "metadata": {},
   "outputs": [],
   "source": [
    "def process_text(text):\n",
    "    #remove puntuation\n",
    "    nopunc = [char for char in text if char not in string.punctuation]\n",
    "    nopunc = ''.join(nopunc)\n",
    "    #print(nopunc)\n",
    "    #remove topwords\n",
    "    clean_words = [word for word in nopunc.split() if word.lower() not in stopwords.words('english')  ]\n",
    "    # return list of clean text\n",
    "   # print(clean_words)\n",
    "    return clean_words  "
   ]
  },
  {
   "cell_type": "code",
   "execution_count": 6,
   "metadata": {
    "scrolled": true
   },
   "outputs": [
    {
     "data": {
      "text/plain": [
       "0    [least, think, product, save, day, keep, aroun...\n",
       "1    [Lithium, batteries, something, new, introduce...\n",
       "2    [purchased, swing, baby, 6, months, pretty, mu...\n",
       "3    [looking, inexpensive, desk, calcolatur, works...\n",
       "4    [use, twice, week, results, great, used, teeth...\n",
       "Name: REVIEW_TEXT, dtype: object"
      ]
     },
     "execution_count": 6,
     "metadata": {},
     "output_type": "execute_result"
    }
   ],
   "source": [
    "#tokenization\n",
    "df['REVIEW_TEXT'].head().apply(process_text)"
   ]
  },
  {
   "cell_type": "code",
   "execution_count": 7,
   "metadata": {},
   "outputs": [],
   "source": [
    "vectorizer = CountVectorizer(decode_error=\"replace\", analyzer=process_text)\n",
    "message_bow = vectorizer.fit_transform(df['REVIEW_TEXT'])\n"
   ]
  },
  {
   "cell_type": "code",
   "execution_count": 8,
   "metadata": {},
   "outputs": [
    {
     "name": "stdout",
     "output_type": "stream",
     "text": [
      "(21000, 55524)\n",
      "\n",
      "Now testing algorithms\n",
      "DecisionTreeClassifier(ccp_alpha=0.0, class_weight=None, criterion='gini',\n",
      "                       max_depth=3, max_features=None, max_leaf_nodes=None,\n",
      "                       min_impurity_decrease=0.0, min_impurity_split=None,\n",
      "                       min_samples_leaf=1, min_samples_split=2,\n",
      "                       min_weight_fraction_leaf=0.0, presort='deprecated',\n",
      "                       random_state=None, splitter='best')\n",
      "56.333333333333336\n",
      "RandomForestClassifier(bootstrap=True, ccp_alpha=0.0, class_weight=None,\n",
      "                       criterion='gini', max_depth=None, max_features='auto',\n",
      "                       max_leaf_nodes=None, max_samples=None,\n",
      "                       min_impurity_decrease=0.0, min_impurity_split=None,\n",
      "                       min_samples_leaf=1, min_samples_split=2,\n",
      "                       min_weight_fraction_leaf=0.0, n_estimators=3,\n",
      "                       n_jobs=None, oob_score=False, random_state=None,\n",
      "                       verbose=0, warm_start=False)\n",
      "56.285714285714285\n",
      "MultinomialNB(alpha=1.0, class_prior=None, fit_prior=True)\n",
      "64.59523809523809\n"
     ]
    }
   ],
   "source": [
    "\n",
    "\n",
    "X_train, X_test, Y_train, Y_test =  train_test_split(message_bow,df['LABEL'], test_size= 0.20, random_state = 0)\n",
    "\n",
    "print(message_bow.shape)\n",
    "\n",
    "results = {}\n",
    "\n",
    "algorithms = {\n",
    "        \"DecisionTree\": tree.DecisionTreeClassifier(max_depth=3),\n",
    "        #The max_depth parameter denotes maximum depth of the tree.\n",
    "    \n",
    "        \"RandomForest\": ske.RandomForestClassifier(n_estimators=3),#In case, of random forest, these ensemble classifiers are            the randomly created decision trees. Each decision tree is a single classifier and the target prediction is based on            the majority voting method.\n",
    "         #n_estimators ==The number of trees in the forest.\n",
    "    \n",
    "         \n",
    "        \"MNB\": MultinomialNB()\n",
    "        #Bayes theorem is based on conditional probability. The conditional probability helps us calculating the probability             that something will happen\n",
    "    }\n",
    "\n",
    "print(\"\\nNow testing algorithms\")\n",
    "for algo in algorithms:\n",
    "    print(algorithms[algo])\n",
    "    clf = algorithms[algo]\n",
    "    clf.fit(X_train, Y_train)#fit may be called as 'trained'\n",
    "    pred_on_test_data = clf.predict(X_test)\n",
    "    score = accuracy_score(pred_on_test_data, Y_test)\n",
    "    results[algo] = score*100\n",
    "    print( results[algo])\n",
    "\n",
    "selectedAlgo = max(results, key=results.get)\n",
    "\n"
   ]
  },
  {
   "cell_type": "code",
   "execution_count": 37,
   "metadata": {},
   "outputs": [
    {
     "data": {
      "image/png": "[encoded data removed]",
      "text/plain": [
       "<Figure size 800x800 with 1 Axes>"
      ]
     },
     "metadata": {
      "needs_background": "light"
     },
     "output_type": "display_data"
    }
   ],
   "source": [
    "my_dpi=200\n",
    "fig = plt.figure(figsize=(800/my_dpi, 800/my_dpi), dpi=my_dpi)\n",
    "ax = fig.add_axes([0,0,1,1])\n",
    "y = [results['DecisionTree'], results['RandomForest'], results['MNB']]\n",
    "x = [\"Decision Tree\", \"Random Forest\", \"NB\"]\n",
    "ax.bar(x,y)\n",
    "plt.savefig('accuracy_chart.jpg')  \n",
    "plt.show()"
   ]
  },
  {
   "cell_type": "code",
   "execution_count": 22,
   "metadata": {},
   "outputs": [
    {
     "name": "stdout",
     "output_type": "stream",
     "text": [
      "MNB\n",
      "Saving algorithm and feature list in classifier directory...\n",
      "Saved\n"
     ]
    }
   ],
   "source": [
    "import joblib\n",
    "print(selectedAlgo)\n",
    "print('Saving algorithm and feature list in classifier directory...')\n",
    "joblib.dump(algorithms[selectedAlgo], 'classifier/classifier.pkl')#Persist an arbitrary Python object into one file.\n",
    "print('Saved')"
   ]
  },
  {
   "cell_type": "code",
   "execution_count": null,
   "metadata": {},
   "outputs": [],
   "source": []
  }
 ],
 "metadata": {
  "kernelspec": {
   "display_name": "Python 3",
   "language": "python",
   "name": "python3"
  },
  "language_info": {
   "codemirror_mode": {
    "name": "ipython",
    "version": 3
   },
   "file_extension": ".py",
   "mimetype": "text/x-python",
   "name": "python",
   "nbconvert_exporter": "python",
   "pygments_lexer": "ipython3",
   "version": "3.7.4"
  }
 },
 "nbformat": 4,
 "nbformat_minor": 2
}
