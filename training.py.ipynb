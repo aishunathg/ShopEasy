{
 "cells": [
  {
   "cell_type": "code",
   "execution_count": 1,
   "metadata": {},
   "outputs": [],
   "source": [
    "%matplotlib inline\n",
    "import matplotlib.pyplot as plt\n",
    "import seaborn as sns\n",
    "import pandas as pd\n",
    "import numpy as np\n",
    "import joblib\n",
    "from sklearn.feature_selection import SelectKBest,f_classif\n",
    "from sklearn.model_selection import train_test_split\n",
    "from sklearn.neighbors import KNeighborsClassifier\n",
    "from sklearn.ensemble import RandomForestClassifier\n",
    "import warnings; warnings.simplefilter('ignore')"
   ]
  },
  {
   "cell_type": "code",
   "execution_count": 2,
   "metadata": {},
   "outputs": [
    {
     "data": {
      "text/html": [
       "<div>\n",
       "<style scoped>\n",
       "    .dataframe tbody tr th:only-of-type {\n",
       "        vertical-align: middle;\n",
       "    }\n",
       "\n",
       "    .dataframe tbody tr th {\n",
       "        vertical-align: top;\n",
       "    }\n",
       "\n",
       "    .dataframe thead th {\n",
       "        text-align: right;\n",
       "    }\n",
       "</style>\n",
       "<table border=\"1\" class=\"dataframe\">\n",
       "  <thead>\n",
       "    <tr style=\"text-align: right;\">\n",
       "      <th></th>\n",
       "      <th>product_id</th>\n",
       "      <th>brand</th>\n",
       "      <th>also_bought</th>\n",
       "      <th>recommendation</th>\n",
       "    </tr>\n",
       "  </thead>\n",
       "  <tbody>\n",
       "    <tr>\n",
       "      <th>0</th>\n",
       "      <td>3</td>\n",
       "      <td>Dettol</td>\n",
       "      <td>[\"10\",\"13\",\"12\",\"6\",\"4\"]</td>\n",
       "      <td>12</td>\n",
       "    </tr>\n",
       "    <tr>\n",
       "      <th>1</th>\n",
       "      <td>4</td>\n",
       "      <td>Lizol</td>\n",
       "      <td>[\"14\",\"3\",\"10\",\"7\",\"9\"]</td>\n",
       "      <td>14</td>\n",
       "    </tr>\n",
       "    <tr>\n",
       "      <th>2</th>\n",
       "      <td>5</td>\n",
       "      <td>Dettol</td>\n",
       "      <td>[\"3\",\"8\",\"4\",\"6\",\"13\"]</td>\n",
       "      <td>6</td>\n",
       "    </tr>\n",
       "    <tr>\n",
       "      <th>3</th>\n",
       "      <td>6</td>\n",
       "      <td>Combo</td>\n",
       "      <td>[\"3\",\"9\",\"14\",\"4\",\"11\"]</td>\n",
       "      <td>9</td>\n",
       "    </tr>\n",
       "    <tr>\n",
       "      <th>4</th>\n",
       "      <td>7</td>\n",
       "      <td>Combo</td>\n",
       "      <td>[\"14\",\"4\",\"11\",\"8\",\"9\"]</td>\n",
       "      <td>14</td>\n",
       "    </tr>\n",
       "    <tr>\n",
       "      <th>5</th>\n",
       "      <td>8</td>\n",
       "      <td>Fresho</td>\n",
       "      <td>[\"12\",\"5\",\"3\",\"9\",\"11\"]</td>\n",
       "      <td>9</td>\n",
       "    </tr>\n",
       "    <tr>\n",
       "      <th>6</th>\n",
       "      <td>9</td>\n",
       "      <td>Fresho</td>\n",
       "      <td>[\"6\",\"3\",\"10\",\"4\",\"8\"]</td>\n",
       "      <td>4</td>\n",
       "    </tr>\n",
       "    <tr>\n",
       "      <th>7</th>\n",
       "      <td>10</td>\n",
       "      <td>Fresho</td>\n",
       "      <td>[\"3\",\"4\",\"9\",\"11\",\"13\"]</td>\n",
       "      <td>3</td>\n",
       "    </tr>\n",
       "    <tr>\n",
       "      <th>8</th>\n",
       "      <td>11</td>\n",
       "      <td>Fresho</td>\n",
       "      <td>[\"6\",\"7\",\"8\",\"9\",\"3\"]</td>\n",
       "      <td>7</td>\n",
       "    </tr>\n",
       "    <tr>\n",
       "      <th>9</th>\n",
       "      <td>12</td>\n",
       "      <td>Fresho</td>\n",
       "      <td>[\"13\",\"3\",\"8\",\"14\",\"9\"]</td>\n",
       "      <td>9</td>\n",
       "    </tr>\n",
       "    <tr>\n",
       "      <th>10</th>\n",
       "      <td>13</td>\n",
       "      <td>Thumbs Up</td>\n",
       "      <td>[\"12\",\"3\",\"5\",\"10\",\"11\"]</td>\n",
       "      <td>12</td>\n",
       "    </tr>\n",
       "    <tr>\n",
       "      <th>11</th>\n",
       "      <td>14</td>\n",
       "      <td>Miranda</td>\n",
       "      <td>[\"4\",\"3\",\"7\",\"6\",\"12\"]</td>\n",
       "      <td>4</td>\n",
       "    </tr>\n",
       "  </tbody>\n",
       "</table>\n",
       "</div>"
      ],
      "text/plain": [
       "    product_id      brand               also_bought  recommendation\n",
       "0            3     Dettol  [\"10\",\"13\",\"12\",\"6\",\"4\"]              12\n",
       "1            4      Lizol   [\"14\",\"3\",\"10\",\"7\",\"9\"]              14\n",
       "2            5     Dettol    [\"3\",\"8\",\"4\",\"6\",\"13\"]               6\n",
       "3            6      Combo   [\"3\",\"9\",\"14\",\"4\",\"11\"]               9\n",
       "4            7      Combo   [\"14\",\"4\",\"11\",\"8\",\"9\"]              14\n",
       "5            8     Fresho   [\"12\",\"5\",\"3\",\"9\",\"11\"]               9\n",
       "6            9     Fresho    [\"6\",\"3\",\"10\",\"4\",\"8\"]               4\n",
       "7           10     Fresho   [\"3\",\"4\",\"9\",\"11\",\"13\"]               3\n",
       "8           11     Fresho     [\"6\",\"7\",\"8\",\"9\",\"3\"]               7\n",
       "9           12     Fresho   [\"13\",\"3\",\"8\",\"14\",\"9\"]               9\n",
       "10          13  Thumbs Up  [\"12\",\"3\",\"5\",\"10\",\"11\"]              12\n",
       "11          14    Miranda    [\"4\",\"3\",\"7\",\"6\",\"12\"]               4"
      ]
     },
     "execution_count": 2,
     "metadata": {},
     "output_type": "execute_result"
    }
   ],
   "source": [
    "product = pd.read_csv('dataset.csv')\n",
    "product"
   ]
  },
  {
   "cell_type": "code",
   "execution_count": 3,
   "metadata": {},
   "outputs": [
    {
     "name": "stdout",
     "output_type": "stream",
     "text": [
      "<class 'pandas.core.frame.DataFrame'>\n",
      "RangeIndex: 12 entries, 0 to 11\n",
      "Data columns (total 4 columns):\n",
      "product_id        12 non-null int64\n",
      "brand             12 non-null object\n",
      "also_bought       12 non-null object\n",
      "recommendation    12 non-null int64\n",
      "dtypes: int64(2), object(2)\n",
      "memory usage: 512.0+ bytes\n"
     ]
    }
   ],
   "source": [
    "product.info()"
   ]
  },
  {
   "cell_type": "code",
   "execution_count": 4,
   "metadata": {},
   "outputs": [
    {
     "data": {
      "text/html": [
       "<div>\n",
       "<style scoped>\n",
       "    .dataframe tbody tr th:only-of-type {\n",
       "        vertical-align: middle;\n",
       "    }\n",
       "\n",
       "    .dataframe tbody tr th {\n",
       "        vertical-align: top;\n",
       "    }\n",
       "\n",
       "    .dataframe thead th {\n",
       "        text-align: right;\n",
       "    }\n",
       "</style>\n",
       "<table border=\"1\" class=\"dataframe\">\n",
       "  <thead>\n",
       "    <tr style=\"text-align: right;\">\n",
       "      <th></th>\n",
       "      <th>brand</th>\n",
       "      <th>also_bought</th>\n",
       "    </tr>\n",
       "  </thead>\n",
       "  <tbody>\n",
       "    <tr>\n",
       "      <th>count</th>\n",
       "      <td>12</td>\n",
       "      <td>12</td>\n",
       "    </tr>\n",
       "    <tr>\n",
       "      <th>unique</th>\n",
       "      <td>6</td>\n",
       "      <td>12</td>\n",
       "    </tr>\n",
       "    <tr>\n",
       "      <th>top</th>\n",
       "      <td>Fresho</td>\n",
       "      <td>[\"10\",\"13\",\"12\",\"6\",\"4\"]</td>\n",
       "    </tr>\n",
       "    <tr>\n",
       "      <th>freq</th>\n",
       "      <td>5</td>\n",
       "      <td>1</td>\n",
       "    </tr>\n",
       "  </tbody>\n",
       "</table>\n",
       "</div>"
      ],
      "text/plain": [
       "         brand               also_bought\n",
       "count       12                        12\n",
       "unique       6                        12\n",
       "top     Fresho  [\"10\",\"13\",\"12\",\"6\",\"4\"]\n",
       "freq         5                         1"
      ]
     },
     "execution_count": 4,
     "metadata": {},
     "output_type": "execute_result"
    }
   ],
   "source": [
    "product.describe(include = 'O')"
   ]
  },
  {
   "cell_type": "code",
   "execution_count": 5,
   "metadata": {},
   "outputs": [],
   "source": [
    "product['also_bought'] = product['also_bought'].fillna('')\n",
    "product['brand'] = product['brand'].fillna('')"
   ]
  },
  {
   "cell_type": "code",
   "execution_count": 6,
   "metadata": {},
   "outputs": [
    {
     "data": {
      "text/plain": [
       "(12, 4)"
      ]
     },
     "execution_count": 6,
     "metadata": {},
     "output_type": "execute_result"
    }
   ],
   "source": [
    "product.shape"
   ]
  },
  {
   "cell_type": "code",
   "execution_count": 7,
   "metadata": {},
   "outputs": [],
   "source": [
    "x = product.drop(['recommendation','brand','also_bought'],axis=1)\n",
    "y = product['recommendation']"
   ]
  },
  {
   "cell_type": "code",
   "execution_count": 13,
   "metadata": {},
   "outputs": [],
   "source": [
    "selector = SelectKBest(f_classif,k='all').fit(x, y)\n",
    "x_new = selector.transform(x)\n",
    "nb_features = x_new.shape[1]\n",
    "x_train, x_test, y_train, y_test = train_test_split(x_new, y ,test_size=0.1)"
   ]
  },
  {
   "cell_type": "code",
   "execution_count": 17,
   "metadata": {},
   "outputs": [],
   "source": [
    "algorithms = {\n",
    "    \n",
    " \n",
    " \n",
    " \"RandomForest\": RandomForestClassifier(n_estimators=3),\n",
    " \"KNN\" : KNeighborsClassifier(n_neighbors=3)\n",
    "}"
   ]
  },
  {
   "cell_type": "code",
   "execution_count": 18,
   "metadata": {},
   "outputs": [
    {
     "name": "stdout",
     "output_type": "stream",
     "text": [
      "\n",
      "Now testing algorithms\n",
      "RandomForest : 0.000000 %\n",
      "KNN : 0.000000 %\n",
      "\n",
      "Winner algorithm is RandomForest with a 0.000000 % success\n"
     ]
    }
   ],
   "source": [
    "results = {}\n",
    "print(\"\\nNow testing algorithms\")\n",
    "for algo in algorithms:\n",
    "    clf = algorithms[algo]\n",
    "    clf.fit(x_train, y_train)#fit may be called as 'trained'\n",
    "    score = clf.score(x_test, y_test)\n",
    "    print(\"%s : %f %%\" % (algo, score*100))\n",
    "    results[algo] = score\n",
    "    \n",
    "\n",
    "winner = max(results, key=results.get)\n",
    "print('\\nWinner algorithm is %s with a %f %% success' % (winner, results[winner]*100))"
   ]
  },
  {
   "cell_type": "code",
   "execution_count": 19,
   "metadata": {},
   "outputs": [
    {
     "name": "stdout",
     "output_type": "stream",
     "text": [
      "Saved\n"
     ]
    }
   ],
   "source": [
    "joblib.dump(algorithms[winner], 'classifier/classifier.pkl')#Persist an arbitrary Python object into one file.\n",
    "#joblib works especially well with NumPy arrays which are used by sklearn so depending on the classifier type you use you might have performance and size benefits using joblib.Otherwise pickle does work correctly so saving a trained classifier and loading it again will produce the same results no matter which of the serialization libraries you use\n",
    "print('Saved')"
   ]
  },
  {
   "cell_type": "code",
   "execution_count": null,
   "metadata": {},
   "outputs": [],
   "source": []
  }
 ],
 "metadata": {
  "kernelspec": {
   "display_name": "Python 3",
   "language": "python",
   "name": "python3"
  },
  "language_info": {
   "codemirror_mode": {
    "name": "ipython",
    "version": 3
   },
   "file_extension": ".py",
   "mimetype": "text/x-python",
   "name": "python",
   "nbconvert_exporter": "python",
   "pygments_lexer": "ipython3",
   "version": "3.7.4"
  }
 },
 "nbformat": 4,
 "nbformat_minor": 4
}
